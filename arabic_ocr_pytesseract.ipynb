{
 "cells": [
  {
   "cell_type": "code",
   "execution_count": 81,
   "id": "20dc55d1",
   "metadata": {},
   "outputs": [],
   "source": [
    "import cv2\n",
    "import numpy as np \n",
    "import imutils"
   ]
  },
  {
   "cell_type": "code",
   "execution_count": 82,
   "id": "e93e3874",
   "metadata": {},
   "outputs": [],
   "source": [
    "import pytesseract"
   ]
  },
  {
   "cell_type": "code",
   "execution_count": 83,
   "id": "efaac66b",
   "metadata": {},
   "outputs": [],
   "source": [
    "class ImageProcessing :\n",
    "    \n",
    "    def __init__(self,name):\n",
    "        self.name=name\n",
    "  \n",
    "    def image_read(self,path):\n",
    "        image=cv2.imread(path)\n",
    "        cv2.imshow('Hello word',image)\n",
    "        cv2.waitKey(0)\n",
    "        cv2.destroyAllWindows()\n",
    "        return image\n",
    "    \n",
    "    def rgb2gray(self,image):\n",
    "        filepath=fr'./images/{self.name}.jpg'.format(self.name)\n",
    "        print(filepath)\n",
    "        gray_image =  cv2.cvtColor(image, cv2.COLOR_BGR2GRAY)\n",
    "        cv2.imshow('Gray image', gray_image)\n",
    "        cv2.imwrite(filepath, gray_image)\n",
    "        cv2.waitKey(0)\n",
    "        cv2.destroyAllWindows()\n",
    "        return gray_image\n",
    "        \n",
    "  \n",
    "        \n",
    "    def threshold(self,image,value1,value2,type_th):\n",
    "        filepath=fr'./images/{self.name}.jpg'.format(self.name)\n",
    "        print(filepath)\n",
    "        ret,thresh= cv2.threshold(image, value1, value2, type_th)\n",
    "        cv2.imshow('Threshold',thresh)\n",
    "        cv2.imwrite(filepath, thresh)\n",
    "        cv2.waitKey(0)\n",
    "        cv2.destroyAllWindows()\n",
    "        \n",
    "        \n",
    "    def adaptive(self,image,value1,methode,type_th,value2,value3):\n",
    "        filepath=fr'./images/{self.name}.jpg'.format(self.name)\n",
    "        print(filepath)\n",
    "        thresh = cv2.adaptiveThreshold(image, value1, methode, \n",
    "                               type_th, value2, value3) \n",
    "        cv2.imshow(\"Adaptive Thresholding\", thresh) \n",
    "        cv2.imwrite(filepath, thresh)\n",
    "        cv2.waitKey(0) \n",
    "        cv2.destroyAllWindows()\n",
    "        \n",
    "    def CannyEdge(slef,image,value1,value2):\n",
    "        filepath=fr'./images/{self.name}.jpg'.format(self.name)\n",
    "        print(filepath)\n",
    "        canny = cv2.Canny(image,20,170)\n",
    "        \n",
    "        cv2.imshow('Canny', canny)\n",
    "        cv2.imwrite(filepath, canny)\n",
    "        cv2.waitKey(0)\n",
    "\n",
    "        cv2.destroyAllWindows()\n",
    "        \n",
    "    def rotation2(self,image,degre_value):\n",
    "        filepath=fr'./images/{self.name}.jpg'.format(self.name)\n",
    "        rotated = imutils.rotate(image, degre_value)\n",
    "        cv2.imshow(\"Rotated Degrees\", rotated)\n",
    "        cv2.imwrite(filepath, rotated)\n",
    "        cv2.waitKey()\n",
    "        cv2.destroyAllWindows()\n",
    "        return rotated\n",
    "        \n",
    "    def rotation(self,image):\n",
    "        filepath=fr'./images/{self.name}.jpg'.format(self.name)\n",
    "        rotated_image = cv2.transpose(image)\n",
    "\n",
    "        cv2.imshow('Rotated Image', rotated_image)\n",
    "        cv2.imwrite(filepath, rotated_image)\n",
    "        cv2.waitKey()\n",
    "        cv2.destroyAllWindows()\n",
    "        return rotated_image\n",
    "        \n",
    "    def scaling(self,image,fxvalue,fyvalue,type_inter):\n",
    "        filepath=fr'./images/{self.name}.jpg'.format(self.name)\n",
    "        image_scaled = cv2.resize(image, None, fx=fxvalue, fy=fyvalue,interpolation=type_inter)\n",
    "        cv2.imshow('Scaling - Linear Interpolation', image_scaled) \n",
    "        cv2.imwrite(filepath, image_scaled)\n",
    "        cv2.waitKey()\n",
    "        cv2.destroyAllWindows()\n",
    "        return image_scaled\n",
    "    \n",
    "    def cropping(self,image,body):\n",
    "        \n",
    "        filepath=fr'./images/{self.name}.jpg'.format(self.name)\n",
    "        cv2.imshow(\"Body\", body)\n",
    "        cv2.waitKey(0)\n",
    "        \n",
    "    def translation(self,image,value_trans1,value_trans2):\n",
    "        filepath=fr'./images/{self.name}.jpg'.format(self.name)\n",
    "        shifted = imutils.translate(image, value_trans1, value_trans2)\n",
    "        cv2.imshow(\"Shifted Down\", shifted)\n",
    "        cv2.imwrite(filepath, shifted)\n",
    "        cv2.waitKey(0)\n",
    "        \n",
    "    def Blur(image,name):\n",
    "        filepath=fr'./images/{self.name}.jpg'.format(self.name)\n",
    "        print(filepath)\n",
    "        image_blur = cv2.GaussianBlur(image, (3, 3), 0)\n",
    "        cv2.imwrite(filepath, image_blur)\n",
    "        cv2.waitKey(0) \n",
    "        cv2.destroyAllWindows()\n",
    "        \n",
    "  \n",
    "\n",
    "        \n",
    "\n",
    "        "
   ]
  },
  {
   "cell_type": "code",
   "execution_count": 84,
   "id": "89bc1935",
   "metadata": {},
   "outputs": [
    {
     "name": "stdout",
     "output_type": "stream",
     "text": [
      "./images/test_oop.jpg\n"
     ]
    },
    {
     "data": {
      "text/plain": [
       "array([[250, 250, 250, ..., 249, 248, 248],\n",
       "       [250, 250, 250, ..., 249, 248, 248],\n",
       "       [250, 250, 250, ..., 249, 248, 248],\n",
       "       ...,\n",
       "       [250, 250, 250, ..., 249, 248, 248],\n",
       "       [250, 250, 250, ..., 249, 248, 248],\n",
       "       [250, 250, 250, ..., 249, 248, 248]], dtype=uint8)"
      ]
     },
     "execution_count": 84,
     "metadata": {},
     "output_type": "execute_result"
    }
   ],
   "source": [
    "#image=cv2.imread('./images/arabic.jpg')\n",
    "num1=ImageProcessing('test_oop')\n",
    "image=num1.image_read('./images/arabic.jpg')\n",
    "num1.rgb2gray(image)\n",
    "\n"
   ]
  },
  {
   "cell_type": "code",
   "execution_count": 86,
   "id": "a33e3a73",
   "metadata": {},
   "outputs": [
    {
     "name": "stdout",
     "output_type": "stream",
     "text": [
      "عيد ميلاد مريم\n",
      "\n",
      "اليوم هو السبت وتقوم مريم من النوم ومي.\n",
      "سعيدة جداً. اليم عيد ميلادها الثامن.\n",
      "عشر. هي تدخل الحمام وتستحم, بعد\n",
      "ذك تيس وتتزل إلى غرفة الطعام. هناك\n",
      "تتناول الفطور مع والديها وأخقيها. كلهم\n",
      "0 يهنؤوتها لقيد مبلادها ويعطونها هدايا.\n",
      "مريم تعيدة جداً ونتظر إلى الهدايةولكنها لا تقتمها.\n",
      "\n",
      "هي تننظ حتى المساء حتى ياتى أخَاها وأختها الكبيرة إلى البيت\n",
      "ويحتفلون معها. مريم ستحتفل بعيد ميلادها مع عائلتها وأصدقائيا ولذاقك\n",
      "تذهب إلى السوق بعد الفطور- أمها تاي معها وتساعدها بتحضير\n",
      "احلا ال\n",
      "\n"
     ]
    }
   ],
   "source": [
    "try:\n",
    "    from PIL import Image\n",
    "except ImportError:\n",
    "    import Image\n",
    "import pytesseract\n",
    "pytesseract.pytesseract.tesseract_cmd = r'C:\\Program Files\\Tesseract-OCR\\tesseract.exe'\n",
    "##tessdata_dir_config=r'--tessdata-dir \"C:/Users/pc/anaconda3/envs/tesseract/tessdata\"''\n",
    "text_from_image = pytesseract.image_to_string(Image.open('./images/arabic.jpg'),lang='ara')\n",
    "print(text_from_image)"
   ]
  },
  {
   "cell_type": "code",
   "execution_count": null,
   "id": "d334f275",
   "metadata": {},
   "outputs": [],
   "source": []
  }
 ],
 "metadata": {
  "kernelspec": {
   "display_name": "Python 3 (ipykernel)",
   "language": "python",
   "name": "python3"
  },
  "language_info": {
   "codemirror_mode": {
    "name": "ipython",
    "version": 3
   },
   "file_extension": ".py",
   "mimetype": "text/x-python",
   "name": "python",
   "nbconvert_exporter": "python",
   "pygments_lexer": "ipython3",
   "version": "3.9.7"
  }
 },
 "nbformat": 4,
 "nbformat_minor": 5
}
