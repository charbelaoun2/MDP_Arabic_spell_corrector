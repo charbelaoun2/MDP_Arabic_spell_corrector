{
 "cells": [
  {
   "cell_type": "code",
   "execution_count": 1,
   "id": "026414fa",
   "metadata": {},
   "outputs": [],
   "source": [
    "import cv2\n",
    "import numpy as np "
   ]
  },
  {
   "cell_type": "code",
   "execution_count": 2,
   "id": "417b050f",
   "metadata": {},
   "outputs": [],
   "source": [
    "class ImageProcessing :\n",
    "  \n",
    "    def image_read(path):\n",
    "        image=cv2.imread(path)\n",
    "        cv2.imshow('Hello word',image)\n",
    "        cv2.waitKey(0)\n",
    "        cv2.destroyAllWindows()\n",
    "        return image\n",
    "    \n",
    "    def rgb2gray(image):\n",
    "        gray_image = cv2.cvtColor(image, cv2.COLOR_BGR2GRAY)\n",
    "        cv2.imshow('Gray image',gray_image)\n",
    "        cv2.waitKey(0)\n",
    "        cv2.destroyAllWindows()\n",
    "        return gray_image\n",
    "        \n",
    "  \n",
    "        \n",
    "    def threshold(image,value1,value2,type_th):\n",
    "        ret,thresh= cv2.threshold(image, value1, value2, type_th)\n",
    "        cv2.imshow('Threshold',thresh)\n",
    "        cv2.waitKey(0)\n",
    "        cv2.destroyAllWindows()\n",
    "        \n",
    "        \n",
    "    def adaptive(image,value1,methode,type_th,value2,value3):\n",
    "        thresh = cv2.adaptiveThreshold(image, value1, methode, \n",
    "                               type_th, value2, value3) \n",
    "        cv2.imshow(\"Adaptive Thresholding\", thresh) \n",
    "        cv2.waitKey(0) \n",
    "        \n",
    "    def CannyEdge(image,value1,value2):\n",
    "        canny = cv2.Canny(image,20,170)\n",
    "        cv2.imshow('Canny', canny)\n",
    "        cv2.waitKey(0)\n",
    "\n",
    "        cv2.destroyAllWindows()\n",
    "        \n",
    "    def rotation(image):\n",
    "        rotated_image = cv2.transpose(image)\n",
    "\n",
    "        cv2.imshow('Rotated Image', rotated_image)\n",
    "        cv2.waitKey()\n",
    "        cv2.destroyAllWindows()\n",
    "        \n",
    "    def scaling(image,fxvalue,fyvalue,type_inter):\n",
    "        image_scaled = cv2.resize(image, None, fx=fxvalue, fy=fyvalue,interpolation=type_inter)\n",
    "        cv2.imshow('Scaling - Linear Interpolation', image_scaled) \n",
    "        cv2.waitKey()\n",
    "        cv2.destroyAllWindows()\n",
    "  \n",
    "\n",
    "        \n",
    "\n",
    "        \n",
    "       "
   ]
  },
  {
   "cell_type": "code",
   "execution_count": 3,
   "id": "3538b7bf",
   "metadata": {},
   "outputs": [],
   "source": [
    "#main"
   ]
  },
  {
   "cell_type": "code",
   "execution_count": 4,
   "id": "a49d234c",
   "metadata": {},
   "outputs": [],
   "source": [
    "num1=ImageProcessing\n",
    "imagetest=num1.image_read('./images/avion.jpg')\n",
    "image = cv2.imread('images/avion.jpg')\n",
    "image = cv2.GaussianBlur(image, (3, 3), 0)\n"
   ]
  },
  {
   "cell_type": "code",
   "execution_count": 5,
   "id": "f9ddcecb",
   "metadata": {},
   "outputs": [],
   "source": [
    "num1.scaling(image,0.75,0.75,cv2.INTER_CUBIC)"
   ]
  },
  {
   "cell_type": "code",
   "execution_count": 6,
   "id": "79da8f34",
   "metadata": {},
   "outputs": [],
   "source": [
    "num1.rotation(image)"
   ]
  },
  {
   "cell_type": "code",
   "execution_count": 7,
   "id": "c9dc4f69",
   "metadata": {},
   "outputs": [],
   "source": [
    "grayt=num1.rgb2gray(image)"
   ]
  },
  {
   "cell_type": "code",
   "execution_count": 8,
   "id": "795d3c77",
   "metadata": {},
   "outputs": [],
   "source": [
    "num1.threshold(grayt,127, 255, cv2.THRESH_BINARY)\n",
    "num1.threshold(grayt, 0, 255, cv2.THRESH_BINARY + cv2.THRESH_OTSU)"
   ]
  },
  {
   "cell_type": "code",
   "execution_count": 9,
   "id": "dc84bc93",
   "metadata": {},
   "outputs": [],
   "source": [
    "num1.adaptive(grayt, 255, cv2.ADAPTIVE_THRESH_MEAN_C, \n",
    "                               cv2.THRESH_BINARY, 3, 5)"
   ]
  },
  {
   "cell_type": "code",
   "execution_count": 10,
   "id": "3ff3c1f5",
   "metadata": {},
   "outputs": [],
   "source": [
    "num1.CannyEdge(grayt,20,170)"
   ]
  },
  {
   "cell_type": "code",
   "execution_count": null,
   "id": "0c2a850b",
   "metadata": {},
   "outputs": [],
   "source": []
  }
 ],
 "metadata": {
  "kernelspec": {
   "display_name": "Python 3 (ipykernel)",
   "language": "python",
   "name": "python3"
  },
  "language_info": {
   "codemirror_mode": {
    "name": "ipython",
    "version": 3
   },
   "file_extension": ".py",
   "mimetype": "text/x-python",
   "name": "python",
   "nbconvert_exporter": "python",
   "pygments_lexer": "ipython3",
   "version": "3.9.7"
  }
 },
 "nbformat": 4,
 "nbformat_minor": 5
}
